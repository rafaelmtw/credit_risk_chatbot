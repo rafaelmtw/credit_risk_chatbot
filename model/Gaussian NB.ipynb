{
 "cells": [
  {
   "cell_type": "code",
   "execution_count": 1,
   "metadata": {},
   "outputs": [],
   "source": [
    "import pandas as pd\n",
    "import numpy as np\n",
    "from sklearn.model_selection import train_test_split, GridSearchCV\n",
    "from sklearn.naive_bayes import GaussianNB\n",
    "from sklearn.metrics import accuracy_score, confusion_matrix, classification_report\n"
   ]
  },
  {
   "cell_type": "code",
   "execution_count": null,
   "metadata": {},
   "outputs": [],
   "source": [
    "# Load the dataset\n",
    "file_path = '../data/processed/new_cleaning.csv'\n",
    "df = pd.read_csv(file_path)\n",
    "\n",
    "#Creating the X and y variables\n",
    "X = df.drop(\"Risk_bad\", axis=1) \n",
    "X = X.iloc[: , 1:]\n",
    "y = df[\"Risk_bad\"].values\n",
    "\n",
    "# Split the data into training and testing sets\n",
    "X_train, X_test, y_train, y_test = train_test_split(X, y, test_size=0.25, random_state=42)\n",
    "\n",
    "# Initialize Gaussian Naive Bayes model\n",
    "gnb = GaussianNB()"
   ]
  },
  {
   "cell_type": "code",
   "execution_count": 3,
   "metadata": {},
   "outputs": [
    {
     "name": "stdout",
     "output_type": "stream",
     "text": [
      "Fitting 5 folds for each of 8 candidates, totalling 40 fits\n",
      "Best parameters: {'var_smoothing': 0.001}\n"
     ]
    }
   ],
   "source": [
    "param_grid = {\n",
    "    'var_smoothing': [1e-10, 1e-9, 1e-8, 1e-7, 1e-6, 1e-5, 1e-4, 1e-3]\n",
    "}\n",
    "\n",
    "grid_search = GridSearchCV(gnb, param_grid, scoring='accuracy', cv=5, verbose=1)\n",
    "grid_search.fit(X_train, y_train)\n",
    "print(\"Best parameters:\", grid_search.best_params_)"
   ]
  },
  {
   "cell_type": "code",
   "execution_count": 4,
   "metadata": {},
   "outputs": [
    {
     "name": "stdout",
     "output_type": "stream",
     "text": [
      "Accuracy: 0.70\n",
      "Confusion Matrix:\n",
      "[[150  28]\n",
      " [ 46  26]]\n",
      "\n",
      "Classification Report:\n",
      "              precision    recall  f1-score   support\n",
      "\n",
      "       False       0.77      0.84      0.80       178\n",
      "        True       0.48      0.36      0.41        72\n",
      "\n",
      "    accuracy                           0.70       250\n",
      "   macro avg       0.62      0.60      0.61       250\n",
      "weighted avg       0.68      0.70      0.69       250\n",
      "\n"
     ]
    }
   ],
   "source": [
    "# Evaluate on test set\n",
    "best_gnb = grid_search.best_estimator_\n",
    "y_pred = best_gnb.predict(X_test)\n",
    "\n",
    "# Calculate accuracy\n",
    "accuracy = accuracy_score(y_test, y_pred)\n",
    "print(f'Accuracy: {accuracy:.2f}')\n",
    "\n",
    "# Display confusion matrix and classification report\n",
    "print(\"Confusion Matrix:\")\n",
    "print(confusion_matrix(y_test, y_pred))\n",
    "print(\"\\nClassification Report:\")\n",
    "print(classification_report(y_test, y_pred))"
   ]
  },
  {
   "cell_type": "code",
   "execution_count": 5,
   "metadata": {},
   "outputs": [
    {
     "name": "stdout",
     "output_type": "stream",
     "text": [
      "Model saved as 'gnb_model.pkl'\n"
     ]
    }
   ],
   "source": [
    "\n",
    "# Save the trained model to a file\n",
    "import joblib\n",
    "\n",
    "# Save the trained GridSearchCV model\n",
    "joblib.dump(grid_search, \"gnb_model.pkl\")\n",
    "print(\"Model saved as 'gnb_model.pkl'\")"
   ]
  },
  {
   "cell_type": "code",
   "execution_count": 6,
   "metadata": {},
   "outputs": [],
   "source": [
    "\n",
    "# Function to load the model and predict on new data\n",
    "def predict_new_data(new_data):\n",
    "    \"\"\"Load the saved model and predict on new data.\"\"\"\n",
    "    import joblib\n",
    "    import numpy as np\n",
    "\n",
    "    # Load the model\n",
    "    model = joblib.load(\"gnb_model.pkl\")\n",
    "\n",
    "    # Ensure new data is a 2D array\n",
    "    if not isinstance(new_data, np.ndarray):\n",
    "        new_data = np.array(new_data)\n",
    "    if new_data.ndim == 1:\n",
    "        new_data = new_data.reshape(1, -1)\n",
    "\n",
    "    # Predict and return the results\n",
    "    predictions = model.predict(new_data)\n",
    "    probabilities = model.predict_proba(new_data)\n",
    "    return predictions, probabilities\n"
   ]
  },
  {
   "cell_type": "code",
   "execution_count": 7,
   "metadata": {},
   "outputs": [
    {
     "name": "stdout",
     "output_type": "stream",
     "text": [
      "Predictions: [False]\n",
      "Probabilities: [[0.98483941 0.01516059]]\n"
     ]
    },
    {
     "name": "stderr",
     "output_type": "stream",
     "text": [
      "/opt/homebrew/anaconda3/envs/apai4011/lib/python3.10/site-packages/sklearn/base.py:493: UserWarning: X does not have valid feature names, but GaussianNB was fitted with feature names\n",
      "  warnings.warn(\n",
      "/opt/homebrew/anaconda3/envs/apai4011/lib/python3.10/site-packages/sklearn/base.py:493: UserWarning: X does not have valid feature names, but GaussianNB was fitted with feature names\n",
      "  warnings.warn(\n"
     ]
    }
   ],
   "source": [
    "# Example usage of the prediction function\n",
    "# Replace `new_input` with your own data point(s)\n",
    "feature_names = X.columns.tolist()\n",
    "new_input = [67,2,7.063903961472068,6,False,False,False,False,True,False,False,True,True,False,False,True,False,False,False,False,False,False,False,True]\n",
    "\n",
    "new_input_df = pd.DataFrame([new_input], columns=feature_names)\n",
    "predictions, probabilities = predict_new_data(new_input_df)\n",
    "\n",
    "print(\"Predictions:\", predictions)\n",
    "print(\"Probabilities:\", probabilities)\n"
   ]
  },
  {
   "cell_type": "code",
   "execution_count": null,
   "metadata": {},
   "outputs": [],
   "source": []
  }
 ],
 "metadata": {
  "kernelspec": {
   "display_name": "apai4011",
   "language": "python",
   "name": "python3"
  },
  "language_info": {
   "codemirror_mode": {
    "name": "ipython",
    "version": 3
   },
   "file_extension": ".py",
   "mimetype": "text/x-python",
   "name": "python",
   "nbconvert_exporter": "python",
   "pygments_lexer": "ipython3",
   "version": "3.10.15"
  }
 },
 "nbformat": 4,
 "nbformat_minor": 2
}

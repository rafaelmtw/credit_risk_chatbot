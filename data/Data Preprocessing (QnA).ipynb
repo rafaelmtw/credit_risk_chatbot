{
 "cells": [
  {
   "cell_type": "code",
   "execution_count": null,
   "metadata": {},
   "outputs": [],
   "source": [
    "import numpy as np\n",
    "import pandas as pd\n",
    "import matplotlib.pyplot as plt\n",
    "import seaborn as sns\n",
    "import string\n",
    "import nltk\n",
    "from nltk.corpus import stopwords\n",
    "from nltk.stem import WordNetLemmatizer\n",
    "from nltk.tokenize import word_tokenize"
   ]
  },
  {
   "cell_type": "code",
   "execution_count": 3,
   "metadata": {},
   "outputs": [
    {
     "data": {
      "text/html": [
       "<div>\n",
       "<style scoped>\n",
       "    .dataframe tbody tr th:only-of-type {\n",
       "        vertical-align: middle;\n",
       "    }\n",
       "\n",
       "    .dataframe tbody tr th {\n",
       "        vertical-align: top;\n",
       "    }\n",
       "\n",
       "    .dataframe thead th {\n",
       "        text-align: right;\n",
       "    }\n",
       "</style>\n",
       "<table border=\"1\" class=\"dataframe\">\n",
       "  <thead>\n",
       "    <tr style=\"text-align: right;\">\n",
       "      <th></th>\n",
       "      <th>Question</th>\n",
       "      <th>Answer</th>\n",
       "    </tr>\n",
       "  </thead>\n",
       "  <tbody>\n",
       "    <tr>\n",
       "      <th>0</th>\n",
       "      <td>What is a loan?</td>\n",
       "      <td>A loan is a sum of money borrowed from a lende...</td>\n",
       "    </tr>\n",
       "    <tr>\n",
       "      <th>1</th>\n",
       "      <td>What types of loans are available?</td>\n",
       "      <td>Common types include personal loans, auto loan...</td>\n",
       "    </tr>\n",
       "    <tr>\n",
       "      <th>2</th>\n",
       "      <td>How do I apply for a loan?</td>\n",
       "      <td>You can apply for a loan online, at a bank, or...</td>\n",
       "    </tr>\n",
       "    <tr>\n",
       "      <th>3</th>\n",
       "      <td>What is the difference between secured and uns...</td>\n",
       "      <td>Secured loans require collateral, while unsecu...</td>\n",
       "    </tr>\n",
       "    <tr>\n",
       "      <th>4</th>\n",
       "      <td>What is collateral?</td>\n",
       "      <td>Collateral is an asset pledged by a borrower t...</td>\n",
       "    </tr>\n",
       "  </tbody>\n",
       "</table>\n",
       "</div>"
      ],
      "text/plain": [
       "                                            Question  \\\n",
       "0                                    What is a loan?   \n",
       "1                 What types of loans are available?   \n",
       "2                         How do I apply for a loan?   \n",
       "3  What is the difference between secured and uns...   \n",
       "4                                What is collateral?   \n",
       "\n",
       "                                              Answer  \n",
       "0  A loan is a sum of money borrowed from a lende...  \n",
       "1  Common types include personal loans, auto loan...  \n",
       "2  You can apply for a loan online, at a bank, or...  \n",
       "3  Secured loans require collateral, while unsecu...  \n",
       "4  Collateral is an asset pledged by a borrower t...  "
      ]
     },
     "execution_count": 3,
     "metadata": {},
     "output_type": "execute_result"
    }
   ],
   "source": [
    "# load a csv file\n",
    "QnA = pd.read_csv('QnA_Dataset.csv')\n",
    "QnA.head()"
   ]
  },
  {
   "cell_type": "code",
   "execution_count": 7,
   "metadata": {},
   "outputs": [],
   "source": [
    "def convert_to_lowercase(QnA):\n",
    "    QnA = QnA.lower()\n",
    "    return QnA\n",
    "\n",
    "\n",
    "def remove_punctuation(QnA):\n",
    "    translator = str.maketrans('', '', string.punctuation)\n",
    "    QnA = QnA.translate(translator)\n",
    "    return QnA\n",
    "\n",
    "def remove_stopwords(QnA):\n",
    "    nltk.download('stopwords', quiet=True)\n",
    "    stoplist = stopwords.words('english')\n",
    "    clean_word_list = [word for word in QnA.split() if word not in stoplist]\n",
    "    QnA = ' '.join(clean_word_list)\n",
    "    return QnA"
   ]
  },
  {
   "cell_type": "code",
   "execution_count": 8,
   "metadata": {},
   "outputs": [
    {
     "name": "stdout",
     "output_type": "stream",
     "text": [
      "                                            Question  \\\n",
      "0                                    what is a loan?   \n",
      "1                 what types of loans are available?   \n",
      "2                         how do i apply for a loan?   \n",
      "3  what is the difference between secured and uns...   \n",
      "4                                what is collateral?   \n",
      "\n",
      "                                              Answer  \n",
      "0  a loan is a sum of money borrowed from a lende...  \n",
      "1  common types include personal loans, auto loan...  \n",
      "2  you can apply for a loan online, at a bank, or...  \n",
      "3  secured loans require collateral, while unsecu...  \n",
      "4  collateral is an asset pledged by a borrower t...  \n",
      "------------------------------------------------------------------\n",
      "                              Question  \\\n",
      "0                                loan?   \n",
      "1               types loans available?   \n",
      "2                          apply loan?   \n",
      "3  difference secured unsecured loans?   \n",
      "4                          collateral?   \n",
      "\n",
      "                                              Answer  \n",
      "0  loan sum money borrowed lender expected paid b...  \n",
      "1  common types include personal loans, auto loan...  \n",
      "2  apply loan online, bank, financial institution...  \n",
      "3  secured loans require collateral, unsecured lo...  \n",
      "4  collateral asset pledged borrower secure loan,...  \n",
      "------------------------------------------------------------------\n",
      "                             Question  \\\n",
      "0                                loan   \n",
      "1               types loans available   \n",
      "2                          apply loan   \n",
      "3  difference secured unsecured loans   \n",
      "4                          collateral   \n",
      "\n",
      "                                              Answer  \n",
      "0  loan sum money borrowed lender expected paid b...  \n",
      "1  common types include personal loans auto loans...  \n",
      "2  apply loan online bank financial institution p...  \n",
      "3  secured loans require collateral unsecured loa...  \n",
      "4  collateral asset pledged borrower secure loan ...  \n"
     ]
    }
   ],
   "source": [
    "# 1. convert_to_lowercase\n",
    "QnA['Question'] = QnA['Question'].apply(convert_to_lowercase)\n",
    "QnA['Answer'] = QnA['Answer'].apply(convert_to_lowercase)\n",
    "print(QnA[['Question', 'Answer']].head())\n",
    "print(\"------------------------------------------------------------------\")\n",
    "\n",
    "# 2. remove_stopwords\n",
    "QnA['Question'] = QnA['Question'].apply(remove_stopwords)\n",
    "QnA['Answer'] = QnA['Answer'].apply(remove_stopwords)\n",
    "print(QnA[['Question', 'Answer']].head())\n",
    "print(\"------------------------------------------------------------------\")\n",
    "\n",
    "# 3. remove_punctuation\n",
    "QnA['Question'] = QnA['Question'].apply(remove_punctuation)\n",
    "QnA['Answer'] = QnA['Answer'].apply(remove_punctuation)\n",
    "print(QnA[['Question', 'Answer']].head())"
   ]
  },
  {
   "cell_type": "code",
   "execution_count": 11,
   "metadata": {},
   "outputs": [],
   "source": [
    "def lemmatization(QnA):\n",
    "    lemmatizer = WordNetLemmatizer()\n",
    "    temp = QnA.split()\n",
    "    lemmatized = [lemmatizer.lemmatize(t) for t in temp]  # Lemmatise each word\n",
    "    return ' '.join(lemmatized)"
   ]
  },
  {
   "cell_type": "code",
   "execution_count": 12,
   "metadata": {},
   "outputs": [
    {
     "name": "stdout",
     "output_type": "stream",
     "text": [
      "                            Question  \\\n",
      "0                               loan   \n",
      "1                type loan available   \n",
      "2                         apply loan   \n",
      "3  difference secured unsecured loan   \n",
      "4                         collateral   \n",
      "\n",
      "                                              Answer  \n",
      "0  loan sum money borrowed lender expected paid b...  \n",
      "1  common type include personal loan auto loan mo...  \n",
      "2  apply loan online bank financial institution p...  \n",
      "3  secured loan require collateral unsecured loan...  \n",
      "4  collateral asset pledged borrower secure loan ...  \n"
     ]
    }
   ],
   "source": [
    "QnA['Question'] = QnA['Question'].apply(lemmatization)\n",
    "QnA['Answer'] = QnA['Answer'].apply(lemmatization)\n",
    "print(QnA[['Question', 'Answer']].head())"
   ]
  },
  {
   "cell_type": "code",
   "execution_count": 14,
   "metadata": {},
   "outputs": [
    {
     "name": "stdout",
     "output_type": "stream",
     "text": [
      "                                 Question  \\\n",
      "0                                  [loan]   \n",
      "1                 [type, loan, available]   \n",
      "2                           [apply, loan]   \n",
      "3  [difference, secured, unsecured, loan]   \n",
      "4                            [collateral]   \n",
      "\n",
      "                                              Answer  \n",
      "0  [loan, sum, money, borrowed, lender, expected,...  \n",
      "1  [common, type, include, personal, loan, auto, ...  \n",
      "2  [apply, loan, online, bank, financial, institu...  \n",
      "3  [secured, loan, require, collateral, unsecured...  \n",
      "4  [collateral, asset, pledged, borrower, secure,...  \n"
     ]
    }
   ],
   "source": [
    "def tokenization(QnA):\n",
    "    return word_tokenize(QnA)\n",
    "\n",
    "Tokenised_QnA = QnA.copy()\n",
    "\n",
    "Tokenised_QnA['Question'] = Tokenised_QnA['Question'].apply(tokenization)\n",
    "Tokenised_QnA['Answer'] = Tokenised_QnA['Answer'].apply(tokenization)\n",
    "print(Tokenised_QnA[['Question', 'Answer']].head())\n"
   ]
  },
  {
   "cell_type": "code",
   "execution_count": 15,
   "metadata": {},
   "outputs": [],
   "source": [
    "# Export the dataframe\n",
    "Tokenised_QnA.to_csv('Tokenised_QnA.csv', index=False)"
   ]
  }
 ],
 "metadata": {
  "kernelspec": {
   "display_name": "Python 3",
   "language": "python",
   "name": "python3"
  },
  "language_info": {
   "codemirror_mode": {
    "name": "ipython",
    "version": 3
   },
   "file_extension": ".py",
   "mimetype": "text/x-python",
   "name": "python",
   "nbconvert_exporter": "python",
   "pygments_lexer": "ipython3",
   "version": "3.12.7"
  }
 },
 "nbformat": 4,
 "nbformat_minor": 2
}

{
 "cells": [
  {
   "cell_type": "code",
   "execution_count": 2,
   "metadata": {},
   "outputs": [],
   "source": [
    "#Load the librarys\n",
    "import pandas as pd #To work with dataset\n",
    "import numpy as np #Math library\n",
    "import seaborn as sns #Graph library that use matplot in background\n",
    "import matplotlib.pyplot as plt #to plot some parameters in seaborn\n",
    "\n",
    "#Importing the data\n",
    "df_credit = pd.read_csv(\"german_credit_data.csv\",index_col=0)"
   ]
  },
  {
   "cell_type": "code",
   "execution_count": 3,
   "metadata": {},
   "outputs": [
    {
     "name": "stdout",
     "output_type": "stream",
     "text": [
      "<class 'pandas.core.frame.DataFrame'>\n",
      "Index: 1000 entries, 0 to 999\n",
      "Data columns (total 10 columns):\n",
      " #   Column            Non-Null Count  Dtype \n",
      "---  ------            --------------  ----- \n",
      " 0   Age               1000 non-null   int64 \n",
      " 1   Sex               1000 non-null   object\n",
      " 2   Job               1000 non-null   int64 \n",
      " 3   Housing           1000 non-null   object\n",
      " 4   Saving accounts   817 non-null    object\n",
      " 5   Checking account  606 non-null    object\n",
      " 6   Credit amount     1000 non-null   int64 \n",
      " 7   Duration          1000 non-null   int64 \n",
      " 8   Purpose           1000 non-null   object\n",
      " 9   Risk              1000 non-null   object\n",
      "dtypes: int64(4), object(6)\n",
      "memory usage: 85.9+ KB\n",
      "None\n"
     ]
    }
   ],
   "source": [
    "print(df_credit.info())"
   ]
  },
  {
   "cell_type": "code",
   "execution_count": 4,
   "metadata": {},
   "outputs": [
    {
     "name": "stdout",
     "output_type": "stream",
     "text": [
      "Age                  53\n",
      "Sex                   2\n",
      "Job                   4\n",
      "Housing               3\n",
      "Saving accounts       4\n",
      "Checking account      3\n",
      "Credit amount       921\n",
      "Duration             33\n",
      "Purpose               8\n",
      "Risk                  2\n",
      "dtype: int64\n",
      "   Age     Sex  Job Housing Saving accounts Checking account  Credit amount  \\\n",
      "0   67    male    2     own             NaN           little           1169   \n",
      "1   22  female    2     own          little         moderate           5951   \n",
      "2   49    male    1     own          little              NaN           2096   \n",
      "3   45    male    2    free          little           little           7882   \n",
      "4   53    male    2    free          little           little           4870   \n",
      "\n",
      "   Duration              Purpose  Risk  \n",
      "0         6             radio/TV  good  \n",
      "1        48             radio/TV   bad  \n",
      "2        12            education  good  \n",
      "3        42  furniture/equipment  good  \n",
      "4        24                  car   bad  \n"
     ]
    }
   ],
   "source": [
    "#Looking unique values\n",
    "print(df_credit.nunique())\n",
    "#Looking the data\n",
    "print(df_credit.head())"
   ]
  },
  {
   "cell_type": "code",
   "execution_count": 5,
   "metadata": {},
   "outputs": [],
   "source": [
    "#Let's look the Credit Amount column\n",
    "interval = (18, 25, 35, 60, 120)\n",
    "\n",
    "cats = ['Student', 'Young', 'Adult', 'Senior']\n",
    "df_credit[\"Age_cat\"] = pd.cut(df_credit.Age, interval, labels=cats)\n",
    "\n",
    "\n",
    "df_good = df_credit[df_credit[\"Risk\"] == 'good']\n",
    "df_bad = df_credit[df_credit[\"Risk\"] == 'bad']"
   ]
  },
  {
   "cell_type": "code",
   "execution_count": 6,
   "metadata": {},
   "outputs": [
    {
     "name": "stdout",
     "output_type": "stream",
     "text": [
      "Purpose :  ['radio/TV' 'education' 'furniture/equipment' 'car' 'business'\n",
      " 'domestic appliances' 'repairs' 'vacation/others']\n",
      "Sex :  ['male' 'female']\n",
      "Housing :  ['own' 'free' 'rent']\n",
      "Saving accounts :  [nan 'little' 'quite rich' 'rich' 'moderate']\n",
      "Risk :  ['good' 'bad']\n",
      "Checking account :  ['little' 'moderate' nan 'rich']\n",
      "Aget_cat :  ['Senior', 'Student', 'Adult', 'Young']\n",
      "Categories (4, object): ['Student' < 'Young' < 'Adult' < 'Senior']\n"
     ]
    }
   ],
   "source": [
    "print(\"Purpose : \",df_credit.Purpose.unique())\n",
    "print(\"Sex : \",df_credit.Sex.unique())\n",
    "print(\"Housing : \",df_credit.Housing.unique())\n",
    "print(\"Saving accounts : \",df_credit['Saving accounts'].unique())\n",
    "print(\"Risk : \",df_credit['Risk'].unique())\n",
    "print(\"Checking account : \",df_credit['Checking account'].unique())\n",
    "print(\"Aget_cat : \",df_credit['Age_cat'].unique())"
   ]
  },
  {
   "cell_type": "code",
   "execution_count": 7,
   "metadata": {},
   "outputs": [],
   "source": [
    "def one_hot_encoder(df, nan_as_category = False):\n",
    "    original_columns = list(df.columns)\n",
    "    categorical_columns = [col for col in df.columns if df[col].dtype == 'object']\n",
    "    df = pd.get_dummies(df, columns= categorical_columns, dummy_na= nan_as_category, drop_first=True)\n",
    "    new_columns = [c for c in df.columns if c not in original_columns]\n",
    "    return df, new_columns"
   ]
  },
  {
   "cell_type": "code",
   "execution_count": 8,
   "metadata": {},
   "outputs": [],
   "source": [
    "df_credit['Saving accounts'] = df_credit['Saving accounts'].fillna('no_inf')\n",
    "df_credit['Checking account'] = df_credit['Checking account'].fillna('no_inf')\n",
    "\n",
    "#Purpose to Dummies Variable\n",
    "df_credit = df_credit.merge(pd.get_dummies(df_credit.Purpose, drop_first=True, prefix='Purpose'), left_index=True, right_index=True)\n",
    "#Sex feature in dummies\n",
    "df_credit = df_credit.merge(pd.get_dummies(df_credit.Sex, drop_first=True, prefix='Sex'), left_index=True, right_index=True)\n",
    "# Housing get dummies\n",
    "df_credit = df_credit.merge(pd.get_dummies(df_credit.Housing, drop_first=True, prefix='Housing'), left_index=True, right_index=True)\n",
    "# Housing get Saving Accounts\n",
    "df_credit = df_credit.merge(pd.get_dummies(df_credit[\"Saving accounts\"], drop_first=True, prefix='Savings'), left_index=True, right_index=True)\n",
    "# Housing get Risk\n",
    "df_credit = df_credit.merge(pd.get_dummies(df_credit.Risk, prefix='Risk'), left_index=True, right_index=True)\n",
    "# Housing get Checking Account\n",
    "df_credit = df_credit.merge(pd.get_dummies(df_credit[\"Checking account\"], drop_first=True, prefix='Check'), left_index=True, right_index=True)\n",
    "# Housing get Age categorical\n",
    "df_credit = df_credit.merge(pd.get_dummies(df_credit[\"Age_cat\"], drop_first=True, prefix='Age_cat'), left_index=True, right_index=True)"
   ]
  },
  {
   "cell_type": "code",
   "execution_count": 9,
   "metadata": {},
   "outputs": [],
   "source": [
    "#Excluding the missing columns\n",
    "del df_credit[\"Saving accounts\"]\n",
    "del df_credit[\"Checking account\"]\n",
    "del df_credit[\"Purpose\"]\n",
    "del df_credit[\"Sex\"]\n",
    "del df_credit[\"Housing\"]\n",
    "del df_credit[\"Age_cat\"]\n",
    "del df_credit[\"Risk\"]\n",
    "del df_credit['Risk_good']"
   ]
  },
  {
   "cell_type": "code",
   "execution_count": 11,
   "metadata": {},
   "outputs": [],
   "source": [
    "df_credit['Credit amount'] = np.log(df_credit['Credit amount'])"
   ]
  },
  {
   "cell_type": "code",
   "execution_count": 10,
   "metadata": {},
   "outputs": [
    {
     "name": "stdout",
     "output_type": "stream",
     "text": [
      "   Age  Job  Credit amount  Duration  Purpose_car  \\\n",
      "0   67    2           1169         6        False   \n",
      "1   22    2           5951        48        False   \n",
      "2   49    1           2096        12        False   \n",
      "3   45    2           7882        42        False   \n",
      "4   53    2           4870        24         True   \n",
      "\n",
      "   Purpose_domestic appliances  Purpose_education  \\\n",
      "0                        False              False   \n",
      "1                        False              False   \n",
      "2                        False               True   \n",
      "3                        False              False   \n",
      "4                        False              False   \n",
      "\n",
      "   Purpose_furniture/equipment  Purpose_radio/TV  Purpose_repairs  ...  \\\n",
      "0                        False              True            False  ...   \n",
      "1                        False              True            False  ...   \n",
      "2                        False             False            False  ...   \n",
      "3                         True             False            False  ...   \n",
      "4                        False             False            False  ...   \n",
      "\n",
      "   Savings_no_inf  Savings_quite rich  Savings_rich  Risk_bad  Check_moderate  \\\n",
      "0            True               False         False     False           False   \n",
      "1           False               False         False      True            True   \n",
      "2           False               False         False     False           False   \n",
      "3           False               False         False     False           False   \n",
      "4           False               False         False      True           False   \n",
      "\n",
      "   Check_no_inf  Check_rich  Age_cat_Young  Age_cat_Adult  Age_cat_Senior  \n",
      "0         False       False          False          False            True  \n",
      "1         False       False          False          False           False  \n",
      "2          True       False          False           True           False  \n",
      "3         False       False          False           True           False  \n",
      "4         False       False          False           True           False  \n",
      "\n",
      "[5 rows x 25 columns]\n"
     ]
    }
   ],
   "source": [
    "print(df_credit.head())"
   ]
  },
  {
   "cell_type": "code",
   "execution_count": 12,
   "metadata": {},
   "outputs": [],
   "source": [
    "# exporting the data\n",
    "df_credit.to_csv(\"new_cleaning.csv\")"
   ]
  }
 ],
 "metadata": {
  "kernelspec": {
   "display_name": "Python 3",
   "language": "python",
   "name": "python3"
  },
  "language_info": {
   "codemirror_mode": {
    "name": "ipython",
    "version": 3
   },
   "file_extension": ".py",
   "mimetype": "text/x-python",
   "name": "python",
   "nbconvert_exporter": "python",
   "pygments_lexer": "ipython3",
   "version": "3.12.7"
  }
 },
 "nbformat": 4,
 "nbformat_minor": 2
}

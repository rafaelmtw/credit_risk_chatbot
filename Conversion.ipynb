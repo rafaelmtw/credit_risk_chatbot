{
 "cells": [
  {
   "cell_type": "code",
   "execution_count": 1,
   "metadata": {},
   "outputs": [],
   "source": [
    "import pandas as pd \n",
    "import numpy as np \n",
    "import string"
   ]
  },
  {
   "cell_type": "code",
   "execution_count": 13,
   "metadata": {},
   "outputs": [],
   "source": [
    "def remove_punctuation(QnA):\n",
    "    translator = str.maketrans('', '', string.punctuation)\n",
    "    QnA = QnA.translate(translator)\n",
    "    return QnA\n",
    "\n",
    "def HKD_to_DM(hkd):\n",
    "    dm = hkd*0.234\n",
    "    return dm"
   ]
  },
  {
   "cell_type": "code",
   "execution_count": 6,
   "metadata": {},
   "outputs": [],
   "source": [
    "sample_json = {\n",
    "    'AGE': '40', \n",
    "    'SEX': '1', \n",
    "    'JOB and RESIDENCY':'2', \n",
    "    'HOUSING':'rent', \n",
    "    'SAVING ACCOUNT BALANCE':'1,000,000', \n",
    "    'CHECKING ACCOUNT BALANCE':'100000', \n",
    "    'CREDIT AMOUNT':'10,000', \n",
    "    'CREDIT DURATION':'12', \n",
    "    'PURPOSE OF CREDIT':'vacation/others' \n",
    "}\n",
    "\n",
    "# {'AGE': '40', 'SEX': '1', 'JOB and RESIDENCY': '2', 'HOUSING': 'rent', 'SAVING ACCOUNT BALANCE': '1,000,000', 'CHECKING ACCOUNT BALANCE': '100000', 'CREDIT AMOUNT': '10,000', 'CREDIT DURATION': '12', 'PURPOSE OF CREDIT': 'house'}"
   ]
  },
  {
   "cell_type": "code",
   "execution_count": 16,
   "metadata": {},
   "outputs": [
    {
     "ename": "SyntaxError",
     "evalue": "incomplete input (2206884197.py, line 4)",
     "output_type": "error",
     "traceback": [
      "\u001b[1;36m  Cell \u001b[1;32mIn[16], line 4\u001b[1;36m\u001b[0m\n\u001b[1;33m    sample_json['CREDIT AMOUNT'] = float(remove_punctuation(sample_json['CREDIT AMOUNT']))\u001b[0m\n\u001b[1;37m                                                                                          ^\u001b[0m\n\u001b[1;31mSyntaxError\u001b[0m\u001b[1;31m:\u001b[0m incomplete input\n"
     ]
    }
   ],
   "source": [
    "try:\n",
    "    sample_json['SAVING ACCOUNT BALANCE'] = float(remove_punctuation(sample_json['SAVING ACCOUNT BALANCE']))\n",
    "    sample_json['CHECKING ACCOUNT BALANCE'] = float(remove_punctuation(sample_json['CHECKING ACCOUNT BALANCE']))\n",
    "    sample_json['CREDIT AMOUNT'] = float(remove_punctuation(sample_json['CREDIT AMOUNT']))"
   ]
  },
  {
   "cell_type": "code",
   "execution_count": 17,
   "metadata": {},
   "outputs": [],
   "source": [
    "def conversion(sample_json):\n",
    "    sample_json['SAVING ACCOUNT BALANCE'] = HKD_to_DM(sample_json['SAVING ACCOUNT BALANCE'])\n",
    "    sample_json['CHECKING ACCOUNT BALANCE'] = HKD_to_DM(sample_json['CHECKING ACCOUNT BALANCE'])\n",
    "    sample_json['CREDIT AMOUNT'] = HKD_to_DM(sample_json['CREDIT AMOUNT'])\n",
    "    return sample_json\n",
    "\n",
    "sample_json = conversion(sample_json)"
   ]
  },
  {
   "cell_type": "code",
   "execution_count": 21,
   "metadata": {},
   "outputs": [],
   "source": [
    "age = float(sample_json['AGE'])\n",
    "job = sample_json['JOB and RESIDENCY']\n",
    "credit_amount = np.log(sample_json['CREDIT AMOUNT'])\n",
    "duration = float(sample_json['CREDIT DURATION'])\n",
    "# Purpose: ['radio/TV' 'education' 'furniture/equipment' 'car' 'business' 'domestic appliances' 'repairs' 'vacation/others']\n",
    "Purpose_car = (1 if sample_json['PURPOSE OF CREDIT'].lower() == 'car' else 0)\n",
    "Purpose_domestic_appliances = (1 if sample_json['PURPOSE OF CREDIT'].lower() == 'domestic appliances' else 0)\n",
    "Purpose_education = (1 if sample_json['PURPOSE OF CREDIT'].lower() == 'education' else 0)\n",
    "Purpose_furniture_equipment = (1 if sample_json['PURPOSE OF CREDIT'].lower() == 'furniture/equipment' else 0)\n",
    "Purpose_radio_TV = (1 if sample_json['PURPOSE OF CREDIT'].lower() == 'radio/TV' else 0) \n",
    "Purpose_repairs = (1 if sample_json['PURPOSE OF CREDIT'].lower() == 'repairs' else 0)\n",
    "Purpose_vacation_others = (1 if sample_json['PURPOSE OF CREDIT'].lower() == 'vacation/others' else 0)\n",
    "# Sex\n",
    "Sex_male = (1 if float(sample_json['SEX']) == '1' else 0)\n",
    "# Housing\n",
    "Housing_own = (1 if sample_json['HOUSING'].lower() == 'own' else 0)\n",
    "Housing_rent = (1 if sample_json['HOUSING'].lower() == 'rent' else 0)\n",
    "# Saving Account Balance\n",
    "Savings_moderate = (1 if (sample_json['SAVING ACCOUNT BALANCE']  >= 100 and sample_json['SAVING ACCOUNT BALANCE'] < 500) else 0)\n",
    "Savings_no_inf = 0\n",
    "Savings_quite_rich = (1 if (sample_json['SAVING ACCOUNT BALANCE'] >= 500 and sample_json['SAVING ACCOUNT BALANCE'] < 1000) else 0)\n",
    "Savings_rich = (1 if sample_json['SAVING ACCOUNT BALANCE'] >= 1000 else 0)\n",
    "# Checking Account\n",
    "Check_moderate = (1 if (sample_json['CHECKING ACCOUNT BALANCE'] >= 0 and sample_json['CHECKING ACCOUNT BALANCE'] < 200) else 0)\n",
    "Check_no_inf = 0\n",
    "Check_rich = (1 if (sample_json['CHECKING ACCOUNT BALANCE'] >= 200) else 0)\n",
    "# Age\n",
    "Age_cat_Young = (1 if (age >= 25 and age < 35) else 0)\n",
    "Age_cat_Adult = (1 if (age >= 35 and age < 60) else 0)\n",
    "Age_cat_Senior = (1 if (age >= 60) else 0)\n"
   ]
  },
  {
   "cell_type": "code",
   "execution_count": 22,
   "metadata": {},
   "outputs": [],
   "source": [
    "new = [age, job, credit_amount, duration, Purpose_car, Purpose_domestic_appliances, Purpose_education, Purpose_furniture_equipment, Purpose_radio_TV, Purpose_repairs, Purpose_vacation_others, Sex_male, Housing_own, Housing_rent, Savings_moderate, Savings_no_inf, Savings_quite_rich, Savings_rich, Check_moderate, Check_no_inf, Check_rich, Age_cat_Young, Age_cat_Adult, Age_cat_Senior]"
   ]
  }
 ],
 "metadata": {
  "kernelspec": {
   "display_name": "Python 3",
   "language": "python",
   "name": "python3"
  },
  "language_info": {
   "codemirror_mode": {
    "name": "ipython",
    "version": 3
   },
   "file_extension": ".py",
   "mimetype": "text/x-python",
   "name": "python",
   "nbconvert_exporter": "python",
   "pygments_lexer": "ipython3",
   "version": "3.12.7"
  }
 },
 "nbformat": 4,
 "nbformat_minor": 2
}
